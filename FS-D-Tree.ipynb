{
 "cells": [
  {
   "cell_type": "markdown",
   "metadata": {},
   "source": [
    "# Feature Selection using D-Trees\n",
    "Feature selection is implicit in the construction of decision trees as, typically not all features will appear in the tree."
   ]
  },
  {
   "cell_type": "code",
   "execution_count": 1,
   "metadata": {},
   "outputs": [],
   "source": [
    "import pandas as pd\n",
    "import numpy as np\n",
    "from sklearn.model_selection import train_test_split\n",
    "from sklearn.model_selection import cross_val_score\n",
    "from sklearn.metrics import accuracy_score\n",
    "from sklearn.tree import DecisionTreeClassifier\n",
    "from sklearn import tree\n",
    "import matplotlib.pyplot as plt "
   ]
  },
  {
   "cell_type": "code",
   "execution_count": 2,
   "metadata": {},
   "outputs": [
    {
     "name": "stdout",
     "output_type": "stream",
     "text": [
      "(333, 5)\n"
     ]
    },
    {
     "data": {
      "text/html": [
       "<div>\n",
       "<style scoped>\n",
       "    .dataframe tbody tr th:only-of-type {\n",
       "        vertical-align: middle;\n",
       "    }\n",
       "\n",
       "    .dataframe tbody tr th {\n",
       "        vertical-align: top;\n",
       "    }\n",
       "\n",
       "    .dataframe thead th {\n",
       "        text-align: right;\n",
       "    }\n",
       "</style>\n",
       "<table border=\"1\" class=\"dataframe\">\n",
       "  <thead>\n",
       "    <tr style=\"text-align: right;\">\n",
       "      <th></th>\n",
       "      <th>bill_length</th>\n",
       "      <th>bill_depth</th>\n",
       "      <th>flipper_length</th>\n",
       "      <th>body_mass</th>\n",
       "      <th>species</th>\n",
       "    </tr>\n",
       "  </thead>\n",
       "  <tbody>\n",
       "    <tr>\n",
       "      <th>0</th>\n",
       "      <td>39.1</td>\n",
       "      <td>18.7</td>\n",
       "      <td>181.0</td>\n",
       "      <td>3750.0</td>\n",
       "      <td>Adelie</td>\n",
       "    </tr>\n",
       "    <tr>\n",
       "      <th>1</th>\n",
       "      <td>39.5</td>\n",
       "      <td>17.4</td>\n",
       "      <td>186.0</td>\n",
       "      <td>3800.0</td>\n",
       "      <td>Adelie</td>\n",
       "    </tr>\n",
       "    <tr>\n",
       "      <th>2</th>\n",
       "      <td>40.3</td>\n",
       "      <td>18.0</td>\n",
       "      <td>195.0</td>\n",
       "      <td>3250.0</td>\n",
       "      <td>Adelie</td>\n",
       "    </tr>\n",
       "    <tr>\n",
       "      <th>3</th>\n",
       "      <td>36.7</td>\n",
       "      <td>19.3</td>\n",
       "      <td>193.0</td>\n",
       "      <td>3450.0</td>\n",
       "      <td>Adelie</td>\n",
       "    </tr>\n",
       "    <tr>\n",
       "      <th>4</th>\n",
       "      <td>39.3</td>\n",
       "      <td>20.6</td>\n",
       "      <td>190.0</td>\n",
       "      <td>3650.0</td>\n",
       "      <td>Adelie</td>\n",
       "    </tr>\n",
       "  </tbody>\n",
       "</table>\n",
       "</div>"
      ],
      "text/plain": [
       "   bill_length  bill_depth  flipper_length  body_mass species\n",
       "0         39.1        18.7           181.0     3750.0  Adelie\n",
       "1         39.5        17.4           186.0     3800.0  Adelie\n",
       "2         40.3        18.0           195.0     3250.0  Adelie\n",
       "3         36.7        19.3           193.0     3450.0  Adelie\n",
       "4         39.3        20.6           190.0     3650.0  Adelie"
      ]
     },
     "execution_count": 2,
     "metadata": {},
     "output_type": "execute_result"
    }
   ],
   "source": [
    "penguins_df = pd.read_csv('penguins.csv', index_col = 0)\n",
    "\n",
    "feature_names = penguins_df.columns\n",
    "print(penguins_df.shape)\n",
    "penguins_df.head()"
   ]
  },
  {
   "cell_type": "code",
   "execution_count": 3,
   "metadata": {},
   "outputs": [
    {
     "data": {
      "text/plain": [
       "Adelie       146\n",
       "Gentoo       119\n",
       "Chinstrap     68\n",
       "Name: species, dtype: int64"
      ]
     },
     "execution_count": 3,
     "metadata": {},
     "output_type": "execute_result"
    }
   ],
   "source": [
    "penguins_df['species'].value_counts()"
   ]
  },
  {
   "cell_type": "markdown",
   "metadata": {},
   "source": [
    "Load the data into numpy arrays and divide into train and test sets.  \n",
    "The filters are *trained* using the training data and then a classifier is trained on the feature subset and tested on the test set.  \n",
    "With D-Trees there is no need to scale the data."
   ]
  },
  {
   "cell_type": "code",
   "execution_count": 4,
   "metadata": {},
   "outputs": [
    {
     "data": {
      "text/plain": [
       "((166, 4), (167, 4))"
      ]
     },
     "execution_count": 4,
     "metadata": {},
     "output_type": "execute_result"
    }
   ],
   "source": [
    "y = penguins_df.pop('species').values\n",
    "X = penguins_df.values\n",
    "\n",
    "X_train, X_test, y_train, y_test = train_test_split(X, y, \n",
    "                                                       random_state=1, test_size=1/2)\n",
    "feature_names = penguins_df.columns\n",
    "X_train.shape, X_test.shape"
   ]
  },
  {
   "cell_type": "markdown",
   "metadata": {},
   "source": [
    "## Full Tree  \n",
    "Tree with no pruning"
   ]
  },
  {
   "cell_type": "code",
   "execution_count": 5,
   "metadata": {},
   "outputs": [
    {
     "name": "stdout",
     "output_type": "stream",
     "text": [
      "Test set accuract 0.93\n"
     ]
    }
   ],
   "source": [
    "ftree = DecisionTreeClassifier(criterion='entropy')\n",
    "ftree = ftree.fit(X_train, y_train)\n",
    "y_pred = ftree.predict(X_test)\n",
    "acc = accuracy_score(y_pred,y_test)\n",
    "print(\"Test set accuract %4.2f\" % (acc))"
   ]
  },
  {
   "cell_type": "code",
   "execution_count": 6,
   "metadata": {},
   "outputs": [
    {
     "data": {
      "text/plain": [
       "[Text(0.6, 0.9, 'flipper_length <= 202.5\\n166\\n[74, 34, 58]\\nAdelie'),\n",
       " Text(0.4, 0.7, 'bill_length <= 44.4\\n103\\n[74, 29, 0]\\nAdelie'),\n",
       " Text(0.3, 0.5, 'bill_depth <= 16.65\\n75\\n[74, 1, 0]\\nAdelie'),\n",
       " Text(0.2, 0.3, 'bill_length <= 39.5\\n8\\n[7, 1, 0]\\nAdelie'),\n",
       " Text(0.1, 0.1, '7\\n[7, 0, 0]\\nAdelie'),\n",
       " Text(0.3, 0.1, '1\\n[0, 1, 0]\\nGentoo'),\n",
       " Text(0.4, 0.3, '67\\n[67, 0, 0]\\nAdelie'),\n",
       " Text(0.5, 0.5, '28\\n[0, 28, 0]\\nGentoo'),\n",
       " Text(0.8, 0.7, 'bill_depth <= 18.4\\n63\\n[0, 5, 58]\\nChinstrap'),\n",
       " Text(0.7, 0.5, '58\\n[0, 0, 58]\\nChinstrap'),\n",
       " Text(0.9, 0.5, '5\\n[0, 5, 0]\\nGentoo')]"
      ]
     },
     "execution_count": 6,
     "metadata": {},
     "output_type": "execute_result"
    },
    {
     "data": {
      "image/png": "[encoded data removed]",
      "text/plain": [
       "<Figure size 792x432 with 1 Axes>"
      ]
     },
     "metadata": {
      "needs_background": "light"
     },
     "output_type": "display_data"
    }
   ],
   "source": [
    "plt.figure(figsize=(11,6))\n",
    "\n",
    "tree.plot_tree(ftree, fontsize = 10, feature_names = feature_names,\n",
    "                      class_names=['Adelie','Gentoo', 'Chinstrap'], \n",
    "                      label = 'none', filled=True, impurity = False,\n",
    "               rounded=True) "
   ]
  },
  {
   "cell_type": "code",
   "execution_count": 7,
   "metadata": {},
   "outputs": [
    {
     "name": "stdout",
     "output_type": "stream",
     "text": [
      " 0.34  bill_length\n",
      " 0.11  bill_depth\n",
      " 0.55  flipper_length\n",
      " 0.00  body_mass\n"
     ]
    }
   ],
   "source": [
    "fi = ftree.feature_importances_\n",
    "\n",
    "for fi_val, f_name in zip(fi,feature_names):\n",
    "    print(\" %4.2f  %s\" % (fi_val, f_name))"
   ]
  },
  {
   "cell_type": "markdown",
   "metadata": {},
   "source": [
    "How many leaves in this tree?"
   ]
  },
  {
   "cell_type": "code",
   "execution_count": 8,
   "metadata": {},
   "outputs": [
    {
     "data": {
      "text/plain": [
       "6"
      ]
     },
     "execution_count": 8,
     "metadata": {},
     "output_type": "execute_result"
    }
   ],
   "source": [
    "ftree.get_n_leaves()"
   ]
  },
  {
   "cell_type": "markdown",
   "metadata": {},
   "source": [
    "### Pruned Tree\n",
    "Ok, build a tree with just 3 leaves."
   ]
  },
  {
   "cell_type": "code",
   "execution_count": 9,
   "metadata": {},
   "outputs": [
    {
     "name": "stdout",
     "output_type": "stream",
     "text": [
      "Test set accuract 0.89\n"
     ]
    }
   ],
   "source": [
    "p_tree = DecisionTreeClassifier(criterion='entropy', max_leaf_nodes = 3)\n",
    "p_tree = p_tree.fit(X_train, y_train)\n",
    "y_pred = p_tree.predict(X_test)\n",
    "acc = accuracy_score(y_pred,y_test)\n",
    "print(\"Test set accuract %4.2f\" % (acc))"
   ]
  },
  {
   "cell_type": "code",
   "execution_count": 10,
   "metadata": {},
   "outputs": [
    {
     "data": {
      "text/plain": [
       "[Text(0.6, 0.8333333333333334, 'flipper_length <= 202.5\\n166\\n[74, 34, 58]\\nAdelie'),\n",
       " Text(0.4, 0.5, 'bill_length <= 44.4\\n103\\n[74, 29, 0]\\nAdelie'),\n",
       " Text(0.2, 0.16666666666666666, '75\\n[74, 1, 0]\\nAdelie'),\n",
       " Text(0.6, 0.16666666666666666, '28\\n[0, 28, 0]\\nGentoo'),\n",
       " Text(0.8, 0.5, '63\\n[0, 5, 58]\\nChinstrap')]"
      ]
     },
     "execution_count": 10,
     "metadata": {},
     "output_type": "execute_result"
    },
    {
     "data": {
      "image/png": "[encoded data removed]",
      "text/plain": [
       "<Figure size 792x432 with 1 Axes>"
      ]
     },
     "metadata": {
      "needs_background": "light"
     },
     "output_type": "display_data"
    }
   ],
   "source": [
    "plt.figure(figsize=(11,6))\n",
    "\n",
    "tree.plot_tree(p_tree, fontsize = 10, feature_names = feature_names,\n",
    "                      class_names=['Adelie','Gentoo', 'Chinstrap'], \n",
    "                      label = 'none', filled=True, impurity = False,\n",
    "               rounded=True) "
   ]
  },
  {
   "cell_type": "markdown",
   "metadata": {},
   "source": [
    "Now two of the features are not selected. "
   ]
  },
  {
   "cell_type": "code",
   "execution_count": 11,
   "metadata": {},
   "outputs": [
    {
     "name": "stdout",
     "output_type": "stream",
     "text": [
      " 0.37  bill_length\n",
      " 0.00  bill_depth\n",
      " 0.63  flipper_length\n",
      " 0.00  body_mass\n"
     ]
    }
   ],
   "source": [
    "fi = p_tree.feature_importances_\n",
    "for fi_val, f_name in zip(fi,feature_names):\n",
    "    print(\" %4.2f  %s\" % (fi_val, f_name))"
   ]
  }
 ],
 "metadata": {
  "kernelspec": {
   "display_name": "Python 3",
   "language": "python",
   "name": "python3"
  },
  "language_info": {
   "codemirror_mode": {
    "name": "ipython",
    "version": 3
   },
   "file_extension": ".py",
   "mimetype": "text/x-python",
   "name": "python",
   "nbconvert_exporter": "python",
   "pygments_lexer": "ipython3",
   "version": "3.8.8"
  }
 },
 "nbformat": 4,
 "nbformat_minor": 2
}
