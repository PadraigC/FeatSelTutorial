{
 "cells": [
  {
   "cell_type": "markdown",
   "metadata": {},
   "source": [
    "# Feature Selection using D-Trees\n",
    "Feature selection is implicit in the construction of decision trees as, typically not all features will appear in the tree."
   ]
  },
  {
   "cell_type": "code",
   "execution_count": null,
   "metadata": {},
   "outputs": [],
   "source": [
    "import pandas as pd\n",
    "import numpy as np\n",
    "from sklearn.model_selection import train_test_split\n",
    "from sklearn.model_selection import cross_val_score\n",
    "from sklearn.metrics import accuracy_score\n",
    "from sklearn.tree import DecisionTreeClassifier\n",
    "from sklearn import tree\n",
    "import matplotlib.pyplot as plt "
   ]
  },
  {
   "cell_type": "code",
   "execution_count": null,
   "metadata": {},
   "outputs": [],
   "source": [
    "penguins_df = pd.read_csv('penguins.csv', index_col = 0)\n",
    "\n",
    "feature_names = penguins_df.columns\n",
    "print(penguins_df.shape)\n",
    "penguins_df.head()"
   ]
  },
  {
   "cell_type": "code",
   "execution_count": null,
   "metadata": {},
   "outputs": [],
   "source": [
    "penguins_df['species'].value_counts()"
   ]
  },
  {
   "cell_type": "markdown",
   "metadata": {},
   "source": [
    "Load the data into numpy arrays and divide into train and test sets.  \n",
    "The filters are *trained* using the training data and then a classifier is trained on the feature subset and tested on the test set.  \n",
    "With D-Trees there is no need to scale the data."
   ]
  },
  {
   "cell_type": "code",
   "execution_count": null,
   "metadata": {},
   "outputs": [],
   "source": [
    "y = penguins_df.pop('species').values\n",
    "X = penguins_df.values\n",
    "\n",
    "X_train, X_test, y_train, y_test = train_test_split(X, y, \n",
    "                                                       random_state=1, test_size=1/2)\n",
    "feature_names = penguins_df.columns\n",
    "X_train.shape, X_test.shape"
   ]
  },
  {
   "cell_type": "markdown",
   "metadata": {},
   "source": [
    "## Full Tree  \n",
    "Tree with no pruning"
   ]
  },
  {
   "cell_type": "code",
   "execution_count": null,
   "metadata": {},
   "outputs": [],
   "source": [
    "ftree = DecisionTreeClassifier(criterion='entropy')\n",
    "ftree = ftree.fit(X_train, y_train)\n",
    "y_pred = ftree.predict(X_test)\n",
    "acc = accuracy_score(y_pred,y_test)\n",
    "print(\"Test set accuract %4.2f\" % (acc))"
   ]
  },
  {
   "cell_type": "code",
   "execution_count": null,
   "metadata": {},
   "outputs": [],
   "source": [
    "plt.figure(figsize=(11,6))\n",
    "\n",
    "tree.plot_tree(ftree, fontsize = 10, feature_names = feature_names,\n",
    "                      class_names=['Adelie','Gentoo', 'Chinstrap'], \n",
    "                      label = 'none', filled=True, impurity = False,\n",
    "               rounded=True) "
   ]
  },
  {
   "cell_type": "code",
   "execution_count": null,
   "metadata": {},
   "outputs": [],
   "source": [
    "fi = ftree.feature_importances_\n",
    "\n",
    "for fi_val, f_name in zip(fi,feature_names):\n",
    "    print(\" %4.2f  %s\" % (fi_val, f_name))"
   ]
  },
  {
   "cell_type": "markdown",
   "metadata": {},
   "source": [
    "How many leaves in this tree?"
   ]
  },
  {
   "cell_type": "code",
   "execution_count": null,
   "metadata": {},
   "outputs": [],
   "source": [
    "ftree.get_n_leaves()"
   ]
  },
  {
   "cell_type": "markdown",
   "metadata": {},
   "source": [
    "### Pruned Tree\n",
    "Ok, build a tree with just 3 leaves."
   ]
  },
  {
   "cell_type": "code",
   "execution_count": null,
   "metadata": {},
   "outputs": [],
   "source": [
    "p_tree = DecisionTreeClassifier(criterion='entropy', max_leaf_nodes = 3)\n",
    "p_tree = p_tree.fit(X_train, y_train)\n",
    "y_pred = p_tree.predict(X_test)\n",
    "acc = accuracy_score(y_pred,y_test)\n",
    "print(\"Test set accuract %4.2f\" % (acc))"
   ]
  },
  {
   "cell_type": "code",
   "execution_count": null,
   "metadata": {},
   "outputs": [],
   "source": [
    "plt.figure(figsize=(11,6))\n",
    "\n",
    "tree.plot_tree(p_tree, fontsize = 10, feature_names = feature_names,\n",
    "                      class_names=['Adelie','Gentoo', 'Chinstrap'], \n",
    "                      label = 'none', filled=True, impurity = False,\n",
    "               rounded=True) "
   ]
  },
  {
   "cell_type": "markdown",
   "metadata": {},
   "source": [
    "Now two of the features are not selected. "
   ]
  },
  {
   "cell_type": "code",
   "execution_count": null,
   "metadata": {},
   "outputs": [],
   "source": [
    "fi = p_tree.feature_importances_\n",
    "for fi_val, f_name in zip(fi,feature_names):\n",
    "    print(\" %4.2f  %s\" % (fi_val, f_name))"
   ]
  }
 ],
 "metadata": {
  "kernelspec": {
   "display_name": "Python 3",
   "language": "python",
   "name": "python3"
  },
  "language_info": {
   "codemirror_mode": {
    "name": "ipython",
    "version": 3
   },
   "file_extension": ".py",
   "mimetype": "text/x-python",
   "name": "python",
   "nbconvert_exporter": "python",
   "pygments_lexer": "ipython3",
   "version": "3.8.3"
  }
 },
 "nbformat": 4,
 "nbformat_minor": 2
}
