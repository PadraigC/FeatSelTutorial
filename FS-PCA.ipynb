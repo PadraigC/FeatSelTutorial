{
 "cells": [
  {
   "cell_type": "markdown",
   "metadata": {},
   "source": [
    "# Principal Component Analysis\n",
    "PCA using the PCA implementaiton in `scikit-learn`"
   ]
  },
  {
   "cell_type": "code",
   "execution_count": null,
   "metadata": {},
   "outputs": [],
   "source": [
    "import matplotlib.pyplot as plt\n",
    "%matplotlib inline\n",
    "import numpy as np\n",
    "import pandas as pd\n",
    "from sklearn import datasets\n",
    "from sklearn.decomposition import PCA\n",
    "from sklearn.preprocessing import StandardScaler"
   ]
  },
  {
   "cell_type": "markdown",
   "metadata": {},
   "source": [
    "## Top Trumps\n",
    "`HarryPotterTT.csv` contains data on Top Trumps cards.  \n",
    "There are 22 examples described by 5 features."
   ]
  },
  {
   "cell_type": "code",
   "execution_count": null,
   "metadata": {},
   "outputs": [],
   "source": [
    "import pandas as pd\n",
    "from sklearn.preprocessing import StandardScaler\n",
    "TT_df = pd.read_csv('HarryPotterTT.csv')\n",
    "TT_df"
   ]
  },
  {
   "cell_type": "markdown",
   "metadata": {},
   "source": [
    "Extract the data into a numpy array X.  \n",
    "And scale the data."
   ]
  },
  {
   "cell_type": "code",
   "execution_count": null,
   "metadata": {},
   "outputs": [],
   "source": [
    "y = TT_df.pop('Name').values\n",
    "X = TT_df.values\n",
    "X_scal = StandardScaler().fit_transform(X)\n",
    "X.shape"
   ]
  },
  {
   "cell_type": "markdown",
   "metadata": {},
   "source": [
    "Apply PCA."
   ]
  },
  {
   "cell_type": "code",
   "execution_count": null,
   "metadata": {},
   "outputs": [],
   "source": [
    "pcaHP = PCA(n_components=4)\n",
    "X_r = pcaHP.fit(X_scal).transform(X_scal)\n",
    "pcaHP.explained_variance_ratio_"
   ]
  },
  {
   "cell_type": "markdown",
   "metadata": {},
   "source": [
    "There are five features being projected onto 4 PCs so the projection matrix is 4 x 5."
   ]
  },
  {
   "cell_type": "code",
   "execution_count": null,
   "metadata": {},
   "outputs": [],
   "source": [
    "pcaHP.components_"
   ]
  },
  {
   "cell_type": "code",
   "execution_count": null,
   "metadata": {},
   "outputs": [],
   "source": [
    "df = pd.DataFrame(pcaHP.explained_variance_ratio_, \n",
    "                  index=['PC1','PC2','PC3','PC4'],columns =['var'])\n",
    "\n",
    "pl = df.plot.bar(color='red',figsize=(5,4))\n",
    "pl.set_ylabel(\"Variance Explained\")\n",
    "pl.set_ylim([0,0.8])"
   ]
  },
  {
   "cell_type": "code",
   "execution_count": null,
   "metadata": {},
   "outputs": [],
   "source": [
    "plt.figure(figsize=(8,6))\n",
    "lw = 2\n",
    "labels = list(range(len (y)))\n",
    "labels[0]='Harry'\n",
    "labels[1]='Hermione'\n",
    "labels[3]='Prof D'\n",
    "labels[5]='Prof McG'\n",
    "labels[6]='Prof Moody'\n",
    "labels[18]='Cedric D'\n",
    "labels[19]='Viktor K'\n",
    "labels[21]='Lucius Malfoy'\n",
    "labels[4]='Snape'\n",
    "labels[12]='Draco Malfoy'\n",
    "\n",
    "plt.scatter(X_r[:, 0], X_r[:, 1])\n",
    "\n",
    "for label, xi, yi in zip(labels, X_r[:, 0], X_r[:, 1]):\n",
    "    plt.annotate(\n",
    "        label,\n",
    "        xy=(xi, yi), xytext=(-3, 3),\n",
    "        textcoords='offset points', ha='right', va='bottom')\n",
    "\n",
    "plt.xlabel('PC1 (49%)')\n",
    "plt.ylabel('PC2 (32%)')\n",
    "plt.title('PCA of HP dataset')\n",
    "\n",
    "plt.show()"
   ]
  },
  {
   "cell_type": "markdown",
   "metadata": {},
   "source": [
    "## Comment\n",
    " - This plot shows the data projected onto the first 2 PCs.  \n",
    " - These PCs account for 81% of the variance in the data. \n",
    " - It might be argued that the first PC captures *competence* and the second represents *malevolence*. \n"
   ]
  }
 ],
 "metadata": {
  "kernelspec": {
   "display_name": "Python 3",
   "language": "python",
   "name": "python3"
  },
  "language_info": {
   "codemirror_mode": {
    "name": "ipython",
    "version": 3
   },
   "file_extension": ".py",
   "mimetype": "text/x-python",
   "name": "python",
   "nbconvert_exporter": "python",
   "pygments_lexer": "ipython3",
   "version": "3.8.3"
  }
 },
 "nbformat": 4,
 "nbformat_minor": 2
}
