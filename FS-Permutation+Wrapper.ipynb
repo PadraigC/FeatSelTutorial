{
 "cells": [
  {
   "cell_type": "markdown",
   "id": "f2178a5a",
   "metadata": {},
   "source": [
    "# A Two Stage Strategy for Feature Subset Selection\n",
    "1. Use Permutation Feature Importance to identify a large subset of candidates\n",
    "2. Use a Wrapper search on this subset to select a final set"
   ]
  },
  {
   "cell_type": "markdown",
   "id": "ec35a629",
   "metadata": {},
   "source": [
    "## Permutation Feature Importance\n",
    "https://scikit-learn.org/stable/modules/permutation_importance.html  \n",
    "\n",
    "This is a good way to score feature importance in the context of a specific classifier/model.  \n",
    "The permutation feature importance is defined to be the decrease in a model score when a single feature value is randomly shuffled.  \n",
    "The idea comes from the original work on Random Forests by Leo Breiman:  \n",
    "L. Breiman, “Random Forests”, Machine Learning, 45(1), 5-32, 2001."
   ]
  },
  {
   "cell_type": "code",
   "execution_count": 50,
   "id": "39ad8bc6",
   "metadata": {},
   "outputs": [],
   "source": [
    "import pandas as pd\n",
    "import numpy as np\n",
    "from sklearn.inspection import permutation_importance\n",
    "from sklearn import preprocessing\n",
    "from sklearn.metrics import accuracy_score\n",
    "from sklearn.model_selection import cross_val_score\n",
    "from sklearn.neighbors import KNeighborsClassifier\n",
    "from sklearn.model_selection import train_test_split\n",
    "import matplotlib.pyplot as plt"
   ]
  },
  {
   "cell_type": "markdown",
   "id": "71fcf18b",
   "metadata": {},
   "source": [
    "Load the Ionsphere dataset from the UCI repository. "
   ]
  },
  {
   "cell_type": "code",
   "execution_count": 72,
   "id": "c6578ead",
   "metadata": {},
   "outputs": [
    {
     "name": "stdout",
     "output_type": "stream",
     "text": [
      "(351, 35)\n"
     ]
    },
    {
     "data": {
      "text/html": [
       "<div>\n",
       "<style scoped>\n",
       "    .dataframe tbody tr th:only-of-type {\n",
       "        vertical-align: middle;\n",
       "    }\n",
       "\n",
       "    .dataframe tbody tr th {\n",
       "        vertical-align: top;\n",
       "    }\n",
       "\n",
       "    .dataframe thead th {\n",
       "        text-align: right;\n",
       "    }\n",
       "</style>\n",
       "<table border=\"1\" class=\"dataframe\">\n",
       "  <thead>\n",
       "    <tr style=\"text-align: right;\">\n",
       "      <th></th>\n",
       "      <th>0</th>\n",
       "      <th>1</th>\n",
       "      <th>2</th>\n",
       "      <th>3</th>\n",
       "      <th>4</th>\n",
       "      <th>5</th>\n",
       "      <th>6</th>\n",
       "      <th>7</th>\n",
       "      <th>8</th>\n",
       "      <th>9</th>\n",
       "      <th>...</th>\n",
       "      <th>25</th>\n",
       "      <th>26</th>\n",
       "      <th>27</th>\n",
       "      <th>28</th>\n",
       "      <th>29</th>\n",
       "      <th>30</th>\n",
       "      <th>31</th>\n",
       "      <th>32</th>\n",
       "      <th>33</th>\n",
       "      <th>Class</th>\n",
       "    </tr>\n",
       "  </thead>\n",
       "  <tbody>\n",
       "    <tr>\n",
       "      <th>0</th>\n",
       "      <td>1</td>\n",
       "      <td>0</td>\n",
       "      <td>0.99539</td>\n",
       "      <td>-0.05889</td>\n",
       "      <td>0.85243</td>\n",
       "      <td>0.02306</td>\n",
       "      <td>0.83398</td>\n",
       "      <td>-0.37708</td>\n",
       "      <td>1.00000</td>\n",
       "      <td>0.03760</td>\n",
       "      <td>...</td>\n",
       "      <td>-0.51171</td>\n",
       "      <td>0.41078</td>\n",
       "      <td>-0.46168</td>\n",
       "      <td>0.21266</td>\n",
       "      <td>-0.34090</td>\n",
       "      <td>0.42267</td>\n",
       "      <td>-0.54487</td>\n",
       "      <td>0.18641</td>\n",
       "      <td>-0.45300</td>\n",
       "      <td>g</td>\n",
       "    </tr>\n",
       "    <tr>\n",
       "      <th>1</th>\n",
       "      <td>1</td>\n",
       "      <td>0</td>\n",
       "      <td>1.00000</td>\n",
       "      <td>-0.18829</td>\n",
       "      <td>0.93035</td>\n",
       "      <td>-0.36156</td>\n",
       "      <td>-0.10868</td>\n",
       "      <td>-0.93597</td>\n",
       "      <td>1.00000</td>\n",
       "      <td>-0.04549</td>\n",
       "      <td>...</td>\n",
       "      <td>-0.26569</td>\n",
       "      <td>-0.20468</td>\n",
       "      <td>-0.18401</td>\n",
       "      <td>-0.19040</td>\n",
       "      <td>-0.11593</td>\n",
       "      <td>-0.16626</td>\n",
       "      <td>-0.06288</td>\n",
       "      <td>-0.13738</td>\n",
       "      <td>-0.02447</td>\n",
       "      <td>b</td>\n",
       "    </tr>\n",
       "    <tr>\n",
       "      <th>2</th>\n",
       "      <td>1</td>\n",
       "      <td>0</td>\n",
       "      <td>1.00000</td>\n",
       "      <td>-0.03365</td>\n",
       "      <td>1.00000</td>\n",
       "      <td>0.00485</td>\n",
       "      <td>1.00000</td>\n",
       "      <td>-0.12062</td>\n",
       "      <td>0.88965</td>\n",
       "      <td>0.01198</td>\n",
       "      <td>...</td>\n",
       "      <td>-0.40220</td>\n",
       "      <td>0.58984</td>\n",
       "      <td>-0.22145</td>\n",
       "      <td>0.43100</td>\n",
       "      <td>-0.17365</td>\n",
       "      <td>0.60436</td>\n",
       "      <td>-0.24180</td>\n",
       "      <td>0.56045</td>\n",
       "      <td>-0.38238</td>\n",
       "      <td>g</td>\n",
       "    </tr>\n",
       "    <tr>\n",
       "      <th>3</th>\n",
       "      <td>1</td>\n",
       "      <td>0</td>\n",
       "      <td>1.00000</td>\n",
       "      <td>-0.45161</td>\n",
       "      <td>1.00000</td>\n",
       "      <td>1.00000</td>\n",
       "      <td>0.71216</td>\n",
       "      <td>-1.00000</td>\n",
       "      <td>0.00000</td>\n",
       "      <td>0.00000</td>\n",
       "      <td>...</td>\n",
       "      <td>0.90695</td>\n",
       "      <td>0.51613</td>\n",
       "      <td>1.00000</td>\n",
       "      <td>1.00000</td>\n",
       "      <td>-0.20099</td>\n",
       "      <td>0.25682</td>\n",
       "      <td>1.00000</td>\n",
       "      <td>-0.32382</td>\n",
       "      <td>1.00000</td>\n",
       "      <td>b</td>\n",
       "    </tr>\n",
       "    <tr>\n",
       "      <th>4</th>\n",
       "      <td>1</td>\n",
       "      <td>0</td>\n",
       "      <td>1.00000</td>\n",
       "      <td>-0.02401</td>\n",
       "      <td>0.94140</td>\n",
       "      <td>0.06531</td>\n",
       "      <td>0.92106</td>\n",
       "      <td>-0.23255</td>\n",
       "      <td>0.77152</td>\n",
       "      <td>-0.16399</td>\n",
       "      <td>...</td>\n",
       "      <td>-0.65158</td>\n",
       "      <td>0.13290</td>\n",
       "      <td>-0.53206</td>\n",
       "      <td>0.02431</td>\n",
       "      <td>-0.62197</td>\n",
       "      <td>-0.05707</td>\n",
       "      <td>-0.59573</td>\n",
       "      <td>-0.04608</td>\n",
       "      <td>-0.65697</td>\n",
       "      <td>g</td>\n",
       "    </tr>\n",
       "  </tbody>\n",
       "</table>\n",
       "<p>5 rows × 35 columns</p>\n",
       "</div>"
      ],
      "text/plain": [
       "   0  1        2        3        4        5        6        7        8  \\\n",
       "0  1  0  0.99539 -0.05889  0.85243  0.02306  0.83398 -0.37708  1.00000   \n",
       "1  1  0  1.00000 -0.18829  0.93035 -0.36156 -0.10868 -0.93597  1.00000   \n",
       "2  1  0  1.00000 -0.03365  1.00000  0.00485  1.00000 -0.12062  0.88965   \n",
       "3  1  0  1.00000 -0.45161  1.00000  1.00000  0.71216 -1.00000  0.00000   \n",
       "4  1  0  1.00000 -0.02401  0.94140  0.06531  0.92106 -0.23255  0.77152   \n",
       "\n",
       "         9  ...       25       26       27       28       29       30  \\\n",
       "0  0.03760  ... -0.51171  0.41078 -0.46168  0.21266 -0.34090  0.42267   \n",
       "1 -0.04549  ... -0.26569 -0.20468 -0.18401 -0.19040 -0.11593 -0.16626   \n",
       "2  0.01198  ... -0.40220  0.58984 -0.22145  0.43100 -0.17365  0.60436   \n",
       "3  0.00000  ...  0.90695  0.51613  1.00000  1.00000 -0.20099  0.25682   \n",
       "4 -0.16399  ... -0.65158  0.13290 -0.53206  0.02431 -0.62197 -0.05707   \n",
       "\n",
       "        31       32       33  Class  \n",
       "0 -0.54487  0.18641 -0.45300      g  \n",
       "1 -0.06288 -0.13738 -0.02447      b  \n",
       "2 -0.24180  0.56045 -0.38238      g  \n",
       "3  1.00000 -0.32382  1.00000      b  \n",
       "4 -0.59573 -0.04608 -0.65697      g  \n",
       "\n",
       "[5 rows x 35 columns]"
      ]
     },
     "execution_count": 72,
     "metadata": {},
     "output_type": "execute_result"
    }
   ],
   "source": [
    "col_heads = [str(x) for x in range(34)]\n",
    "col_heads.append('Class')\n",
    "ion_data = pd.read_csv('ionosphere.csv', names = col_heads, na_values='?', header = None)\n",
    "ion_data.dropna(axis = 0, inplace = True)\n",
    "print(ion_data.shape)\n",
    "ion_data.head()"
   ]
  },
  {
   "cell_type": "code",
   "execution_count": 45,
   "id": "e0757455",
   "metadata": {},
   "outputs": [],
   "source": [
    "y = ion_data.pop('Class').values\n",
    "X = ion_data\n",
    "ion_scaler = preprocessing.MinMaxScaler().fit(X)\n",
    "X_scaled = ion_scaler.transform(X)\n",
    "X_train, X_test, y_train, y_test = train_test_split(X_scaled, y, \n",
    "                                                    random_state=2, test_size=1/2)"
   ]
  },
  {
   "cell_type": "code",
   "execution_count": 46,
   "id": "94efc1d7",
   "metadata": {},
   "outputs": [],
   "source": [
    "# Final results dataframe\n",
    "res_df = pd.DataFrame([['All Features',0.0,0.0],\n",
    "                   ['After PI',0.0,0.0],\n",
    "                   ['After Wrapper',0.0,0.0]],columns=['Method','X-Val','Hold-Out'])\n",
    "res_df.set_index('Method', inplace = True)"
   ]
  },
  {
   "cell_type": "code",
   "execution_count": 48,
   "id": "cc09c142",
   "metadata": {},
   "outputs": [
    {
     "name": "stdout",
     "output_type": "stream",
     "text": [
      "X_Val on training all features: 0.818\n",
      "Hold Out testing all features: 0.795\n"
     ]
    }
   ],
   "source": [
    "kNN = KNeighborsClassifier(n_neighbors=3)\n",
    "kNN = kNN.fit(X_train,y_train)\n",
    "y_pred = kNN.predict(X_test)\n",
    "acc = accuracy_score(y_pred,y_test)\n",
    "cv_acc = cross_val_score(kNN, X_train, y_train, cv=8)\n",
    "\n",
    "res_df.loc['All Features']['X-Val']=cv_acc.mean()\n",
    "res_df.loc['All Features']['Hold-Out']=acc\n",
    "\n",
    "print(\"X_Val on training all features: {0:.3f}\".format(cv_acc.mean())) \n",
    "print(\"Hold Out testing all features: {0:.3f}\".format(acc)) "
   ]
  },
  {
   "cell_type": "code",
   "execution_count": 15,
   "id": "2bc7dfd2",
   "metadata": {},
   "outputs": [],
   "source": [
    "knn_perm = permutation_importance(kNN, X_train, y_train, \n",
    "                                n_repeats=10, random_state=0)"
   ]
  },
  {
   "cell_type": "code",
   "execution_count": 71,
   "id": "e3184727",
   "metadata": {},
   "outputs": [
    {
     "data": {
      "image/png": "[encoded data removed]",
      "text/plain": [
       "<Figure size 432x504 with 1 Axes>"
      ]
     },
     "metadata": {
      "needs_background": "light"
     },
     "output_type": "display_data"
    }
   ],
   "source": [
    "sorted_idx = knn_perm.importances_mean.argsort()\n",
    "fig, ax = plt.subplots(figsize=(6, 7))\n",
    "ax.barh(ion_data.columns[sorted_idx], knn_perm.importances_mean[sorted_idx], zorder=1)\n",
    "ax.xaxis.grid(True)\n",
    "ax.set_ylabel(\"Feature ID\")\n",
    "ax.set_xlabel(\"Permuation Importance (kNN)\");\n",
    "ax.figure.savefig(\"PIscores.png\")\n"
   ]
  },
  {
   "cell_type": "code",
   "execution_count": 17,
   "id": "673cbf5c",
   "metadata": {},
   "outputs": [],
   "source": [
    "mask = knn_perm.importances_mean[sorted_idx]>0"
   ]
  },
  {
   "cell_type": "code",
   "execution_count": 18,
   "id": "fdbade71",
   "metadata": {},
   "outputs": [],
   "source": [
    "PI_features = ion_data.columns[sorted_idx][mask]"
   ]
  },
  {
   "cell_type": "code",
   "execution_count": 19,
   "id": "328a9069",
   "metadata": {},
   "outputs": [
    {
     "name": "stdout",
     "output_type": "stream",
     "text": [
      "Permutation Importance selects 18 features.\n"
     ]
    }
   ],
   "source": [
    "X_PI = X[PI_features]\n",
    "print(\"Permutation Importance selects\", X_PI.shape[1], \"features.\")\n",
    "X_PI_scaled = preprocessing.MinMaxScaler().fit_transform(X_PI)\n",
    "X_PI_train, X_PI_test, y_PI_train, y_PI_test = train_test_split(X_PI_scaled, \n",
    "                                                                   y, random_state=2, \n",
    "                                                                   test_size=1/2)"
   ]
  },
  {
   "cell_type": "code",
   "execution_count": 52,
   "id": "a156f39e",
   "metadata": {},
   "outputs": [
    {
     "name": "stdout",
     "output_type": "stream",
     "text": [
      "X_Val on training all features: 0.880\n",
      "Hold Out testing all features: 0.847\n"
     ]
    }
   ],
   "source": [
    "knnPI = KNeighborsClassifier(n_neighbors=3)\n",
    "knnPI = knnPI.fit(X_PI_train,y_PI_train)\n",
    "\n",
    "y_pred_PI = knnPI.predict(X_PI_test)\n",
    "acc_PI = accuracy_score(y_pred_PI,y_test)\n",
    "cv_acc_PI = cross_val_score(knnPI, X_PI_train, y_train, cv=8)\n",
    "\n",
    "res_df.loc['After PI']['X-Val']=cv_acc_PI.mean()\n",
    "res_df.loc['After PI']['Hold-Out']=acc_PI\n",
    "\n",
    "\n",
    "print(\"X_Val on training all features: {0:.3f}\".format(cv_acc_PI.mean())) \n",
    "print(\"Hold Out testing all features: {0:.3f}\".format(acc_PI)) "
   ]
  },
  {
   "cell_type": "markdown",
   "id": "a054d6f0",
   "metadata": {},
   "source": [
    "## Wrapper"
   ]
  },
  {
   "cell_type": "code",
   "execution_count": 34,
   "id": "2666f71b",
   "metadata": {},
   "outputs": [],
   "source": [
    "from sklearn.feature_selection import SequentialFeatureSelector\n",
    "from sklearn.neighbors import KNeighborsClassifier\n",
    "knn = KNeighborsClassifier(n_neighbors=3)\n",
    "sfs = SequentialFeatureSelector(knn, n_features_to_select='auto', direction = 'backward',\n",
    "                                cv = 10, tol = 0.00001\n",
    "                               )\n",
    "sfs.fit(X_PI_train, y_train)\n",
    "X_PI_W_train = sfs.transform(X_PI_train)\n",
    "X_PI_W_test = sfs.transform(X_PI_test)"
   ]
  },
  {
   "cell_type": "code",
   "execution_count": 35,
   "id": "8d6aa023",
   "metadata": {},
   "outputs": [
    {
     "name": "stdout",
     "output_type": "stream",
     "text": [
      "(175, 16)\n"
     ]
    },
    {
     "data": {
      "text/plain": [
       "0.8465909090909091"
      ]
     },
     "execution_count": 35,
     "metadata": {},
     "output_type": "execute_result"
    }
   ],
   "source": [
    "knnPIW = KNeighborsClassifier(n_neighbors=3)\n",
    "knnPIW = knnPIW.fit(X_PI_W_train,y_PI_train)\n",
    "print(X_PI_W_train.shape)\n",
    "knnPIW.score(X_PI_W_test,y_PI_test)"
   ]
  },
  {
   "cell_type": "code",
   "execution_count": 55,
   "id": "856da3aa",
   "metadata": {},
   "outputs": [
    {
     "name": "stdout",
     "output_type": "stream",
     "text": [
      "(175, 16)\n",
      "X_Val on training all features: 0.897\n",
      "Hold Out testing all features: 0.847\n"
     ]
    }
   ],
   "source": [
    "knnPIW = KNeighborsClassifier(n_neighbors=3)\n",
    "knnPIW = knnPIW.fit(X_PI_W_train,y_PI_train)\n",
    "print(X_PI_W_train.shape)\n",
    "\n",
    "y_pred_PIW = knnPIW.predict(X_PI_W_test)\n",
    "acc_PIW = accuracy_score(y_pred_PIW,y_PI_test)\n",
    "cv_acc_PIW = cross_val_score(knnPIW, X_PI_W_train, y_train, cv=8)\n",
    "\n",
    "res_df.loc['After Wrapper']['X-Val']=cv_acc_PIW.mean()\n",
    "res_df.loc['After Wrapper']['Hold-Out']=acc_PIW\n",
    "\n",
    "\n",
    "print(\"X_Val on training all features: {0:.3f}\".format(cv_acc_PIW.mean())) \n",
    "print(\"Hold Out testing all features: {0:.3f}\".format(acc_PIW)) "
   ]
  },
  {
   "cell_type": "code",
   "execution_count": 69,
   "id": "4e2bf3f2",
   "metadata": {},
   "outputs": [
    {
     "data": {
      "image/png": "[encoded data removed]",
      "text/plain": [
       "<Figure size 432x288 with 1 Axes>"
      ]
     },
     "metadata": {
      "needs_background": "light"
     },
     "output_type": "display_data"
    }
   ],
   "source": [
    "ax = res_df.plot.bar(rot=0)\n",
    "ax.set_ylabel(\"Accuracy\")\n",
    "ax.set_title(\"Feature Selection & Accuracy\")\n",
    "ax.set_ylim(0,1)\n",
    "ax.set_yticks(np.arange(0,1,0.1))\n",
    "ax.legend(loc='lower right')\n",
    "ax.grid(True)\n",
    "ax.figure.savefig(\"PI+Wrapper.png\")\n"
   ]
  },
  {
   "cell_type": "code",
   "execution_count": null,
   "id": "859f0973",
   "metadata": {},
   "outputs": [],
   "source": []
  }
 ],
 "metadata": {
  "kernelspec": {
   "display_name": "Python 3",
   "language": "python",
   "name": "python3"
  },
  "language_info": {
   "codemirror_mode": {
    "name": "ipython",
    "version": 3
   },
   "file_extension": ".py",
   "mimetype": "text/x-python",
   "name": "python",
   "nbconvert_exporter": "python",
   "pygments_lexer": "ipython3",
   "version": "3.8.8"
  }
 },
 "nbformat": 4,
 "nbformat_minor": 5
}
