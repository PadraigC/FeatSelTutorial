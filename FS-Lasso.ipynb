{
 "cells": [
  {
   "cell_type": "markdown",
   "id": "29f5f42d",
   "metadata": {},
   "source": [
    "# Feature Selection Using LASSO\n",
    "The `scikit-learn` Logistic Regression includes regularizatoin.  \n",
    "If the penalty/loss is set to L1 this is effectively LASSO."
   ]
  },
  {
   "cell_type": "code",
   "execution_count": 134,
   "id": "42400747",
   "metadata": {},
   "outputs": [],
   "source": [
    "import pandas as pd\n",
    "import numpy as np\n",
    "from sklearn.preprocessing import MinMaxScaler\n",
    "from sklearn.model_selection import train_test_split\n",
    "from sklearn.metrics import accuracy_score\n",
    "from sklearn.model_selection import cross_val_score\n",
    "from matplotlib.ticker import MaxNLocator\n",
    "from sklearn.feature_selection import SelectFromModel\n",
    "from sklearn.linear_model import LogisticRegression\n",
    "import matplotlib.pyplot as plt"
   ]
  },
  {
   "cell_type": "markdown",
   "id": "d9cf07b2",
   "metadata": {},
   "source": [
    "## Segmentation dataset"
   ]
  },
  {
   "cell_type": "code",
   "execution_count": 135,
   "id": "c0a32980",
   "metadata": {
    "scrolled": true
   },
   "outputs": [
    {
     "name": "stdout",
     "output_type": "stream",
     "text": [
      "(2310, 20)\n"
     ]
    },
    {
     "data": {
      "text/html": [
       "<div>\n",
       "<style scoped>\n",
       "    .dataframe tbody tr th:only-of-type {\n",
       "        vertical-align: middle;\n",
       "    }\n",
       "\n",
       "    .dataframe tbody tr th {\n",
       "        vertical-align: top;\n",
       "    }\n",
       "\n",
       "    .dataframe thead th {\n",
       "        text-align: right;\n",
       "    }\n",
       "</style>\n",
       "<table border=\"1\" class=\"dataframe\">\n",
       "  <thead>\n",
       "    <tr style=\"text-align: right;\">\n",
       "      <th></th>\n",
       "      <th>Class</th>\n",
       "      <th>REGION-CENTROID-COL</th>\n",
       "      <th>REGION-CENTROID-ROW</th>\n",
       "      <th>REGION-PIXEL-COUNT</th>\n",
       "      <th>SHORT-LINE-DENSITY-5</th>\n",
       "      <th>SHORT-LINE-DENSITY-2</th>\n",
       "      <th>VEDGE-MEAN</th>\n",
       "      <th>VEDGE-SD</th>\n",
       "      <th>HEDGE-MEAN</th>\n",
       "      <th>HEDGE-SD</th>\n",
       "      <th>INTENSITY-MEAN</th>\n",
       "      <th>RAWRED-MEAN</th>\n",
       "      <th>RAWBLUE-MEAN</th>\n",
       "      <th>RAWGREEN-MEAN</th>\n",
       "      <th>EXRED-MEAN</th>\n",
       "      <th>EXBLUE-MEAN</th>\n",
       "      <th>EXGREEN-MEAN</th>\n",
       "      <th>VALUE-MEAN</th>\n",
       "      <th>SATURATION-MEAN</th>\n",
       "      <th>HUE-MEAN</th>\n",
       "    </tr>\n",
       "  </thead>\n",
       "  <tbody>\n",
       "    <tr>\n",
       "      <th>0</th>\n",
       "      <td>BRICKFACE</td>\n",
       "      <td>140.0</td>\n",
       "      <td>125.0</td>\n",
       "      <td>9</td>\n",
       "      <td>0.0</td>\n",
       "      <td>0.0</td>\n",
       "      <td>0.277778</td>\n",
       "      <td>0.062963</td>\n",
       "      <td>0.666667</td>\n",
       "      <td>0.311111</td>\n",
       "      <td>6.185185</td>\n",
       "      <td>7.333334</td>\n",
       "      <td>7.666666</td>\n",
       "      <td>3.555556</td>\n",
       "      <td>3.444444</td>\n",
       "      <td>4.444445</td>\n",
       "      <td>-7.888889</td>\n",
       "      <td>7.777778</td>\n",
       "      <td>0.545635</td>\n",
       "      <td>-1.121818</td>\n",
       "    </tr>\n",
       "    <tr>\n",
       "      <th>1</th>\n",
       "      <td>BRICKFACE</td>\n",
       "      <td>188.0</td>\n",
       "      <td>133.0</td>\n",
       "      <td>9</td>\n",
       "      <td>0.0</td>\n",
       "      <td>0.0</td>\n",
       "      <td>0.333333</td>\n",
       "      <td>0.266667</td>\n",
       "      <td>0.500000</td>\n",
       "      <td>0.077778</td>\n",
       "      <td>6.666666</td>\n",
       "      <td>8.333334</td>\n",
       "      <td>7.777778</td>\n",
       "      <td>3.888889</td>\n",
       "      <td>5.000000</td>\n",
       "      <td>3.333333</td>\n",
       "      <td>-8.333333</td>\n",
       "      <td>8.444445</td>\n",
       "      <td>0.538580</td>\n",
       "      <td>-0.924817</td>\n",
       "    </tr>\n",
       "    <tr>\n",
       "      <th>2</th>\n",
       "      <td>BRICKFACE</td>\n",
       "      <td>105.0</td>\n",
       "      <td>139.0</td>\n",
       "      <td>9</td>\n",
       "      <td>0.0</td>\n",
       "      <td>0.0</td>\n",
       "      <td>0.277778</td>\n",
       "      <td>0.107407</td>\n",
       "      <td>0.833333</td>\n",
       "      <td>0.522222</td>\n",
       "      <td>6.111111</td>\n",
       "      <td>7.555555</td>\n",
       "      <td>7.222222</td>\n",
       "      <td>3.555556</td>\n",
       "      <td>4.333334</td>\n",
       "      <td>3.333333</td>\n",
       "      <td>-7.666666</td>\n",
       "      <td>7.555555</td>\n",
       "      <td>0.532628</td>\n",
       "      <td>-0.965946</td>\n",
       "    </tr>\n",
       "    <tr>\n",
       "      <th>3</th>\n",
       "      <td>BRICKFACE</td>\n",
       "      <td>34.0</td>\n",
       "      <td>137.0</td>\n",
       "      <td>9</td>\n",
       "      <td>0.0</td>\n",
       "      <td>0.0</td>\n",
       "      <td>0.500000</td>\n",
       "      <td>0.166667</td>\n",
       "      <td>1.111111</td>\n",
       "      <td>0.474074</td>\n",
       "      <td>5.851852</td>\n",
       "      <td>7.777778</td>\n",
       "      <td>6.444445</td>\n",
       "      <td>3.333333</td>\n",
       "      <td>5.777778</td>\n",
       "      <td>1.777778</td>\n",
       "      <td>-7.555555</td>\n",
       "      <td>7.777778</td>\n",
       "      <td>0.573633</td>\n",
       "      <td>-0.744272</td>\n",
       "    </tr>\n",
       "    <tr>\n",
       "      <th>4</th>\n",
       "      <td>BRICKFACE</td>\n",
       "      <td>39.0</td>\n",
       "      <td>111.0</td>\n",
       "      <td>9</td>\n",
       "      <td>0.0</td>\n",
       "      <td>0.0</td>\n",
       "      <td>0.722222</td>\n",
       "      <td>0.374074</td>\n",
       "      <td>0.888889</td>\n",
       "      <td>0.429629</td>\n",
       "      <td>6.037037</td>\n",
       "      <td>7.000000</td>\n",
       "      <td>7.666666</td>\n",
       "      <td>3.444444</td>\n",
       "      <td>2.888889</td>\n",
       "      <td>4.888889</td>\n",
       "      <td>-7.777778</td>\n",
       "      <td>7.888889</td>\n",
       "      <td>0.562919</td>\n",
       "      <td>-1.175773</td>\n",
       "    </tr>\n",
       "  </tbody>\n",
       "</table>\n",
       "</div>"
      ],
      "text/plain": [
       "       Class  REGION-CENTROID-COL  REGION-CENTROID-ROW  REGION-PIXEL-COUNT  \\\n",
       "0  BRICKFACE                140.0                125.0                   9   \n",
       "1  BRICKFACE                188.0                133.0                   9   \n",
       "2  BRICKFACE                105.0                139.0                   9   \n",
       "3  BRICKFACE                 34.0                137.0                   9   \n",
       "4  BRICKFACE                 39.0                111.0                   9   \n",
       "\n",
       "   SHORT-LINE-DENSITY-5  SHORT-LINE-DENSITY-2  VEDGE-MEAN  VEDGE-SD  \\\n",
       "0                   0.0                   0.0    0.277778  0.062963   \n",
       "1                   0.0                   0.0    0.333333  0.266667   \n",
       "2                   0.0                   0.0    0.277778  0.107407   \n",
       "3                   0.0                   0.0    0.500000  0.166667   \n",
       "4                   0.0                   0.0    0.722222  0.374074   \n",
       "\n",
       "   HEDGE-MEAN  HEDGE-SD  INTENSITY-MEAN  RAWRED-MEAN  RAWBLUE-MEAN  \\\n",
       "0    0.666667  0.311111        6.185185     7.333334      7.666666   \n",
       "1    0.500000  0.077778        6.666666     8.333334      7.777778   \n",
       "2    0.833333  0.522222        6.111111     7.555555      7.222222   \n",
       "3    1.111111  0.474074        5.851852     7.777778      6.444445   \n",
       "4    0.888889  0.429629        6.037037     7.000000      7.666666   \n",
       "\n",
       "   RAWGREEN-MEAN  EXRED-MEAN  EXBLUE-MEAN  EXGREEN-MEAN  VALUE-MEAN  \\\n",
       "0       3.555556    3.444444     4.444445     -7.888889    7.777778   \n",
       "1       3.888889    5.000000     3.333333     -8.333333    8.444445   \n",
       "2       3.555556    4.333334     3.333333     -7.666666    7.555555   \n",
       "3       3.333333    5.777778     1.777778     -7.555555    7.777778   \n",
       "4       3.444444    2.888889     4.888889     -7.777778    7.888889   \n",
       "\n",
       "   SATURATION-MEAN  HUE-MEAN  \n",
       "0         0.545635 -1.121818  \n",
       "1         0.538580 -0.924817  \n",
       "2         0.532628 -0.965946  \n",
       "3         0.573633 -0.744272  \n",
       "4         0.562919 -1.175773  "
      ]
     },
     "execution_count": 135,
     "metadata": {},
     "output_type": "execute_result"
    }
   ],
   "source": [
    "seg_data = pd.read_csv('segmentation-all.csv')\n",
    "print(seg_data.shape)\n",
    "seg_data.head()"
   ]
  },
  {
   "cell_type": "code",
   "execution_count": 136,
   "id": "ffb25be2",
   "metadata": {},
   "outputs": [
    {
     "data": {
      "text/plain": [
       "array(['BRICKFACE', 'SKY', 'FOLIAGE', 'CEMENT', 'WINDOW', 'PATH', 'GRASS'],\n",
       "      dtype=object)"
      ]
     },
     "execution_count": 136,
     "metadata": {},
     "output_type": "execute_result"
    }
   ],
   "source": [
    "seg_data['Class'].unique()"
   ]
  },
  {
   "cell_type": "markdown",
   "id": "5bb1ff06",
   "metadata": {},
   "source": [
    "Reduce the data to just two classes. This makes the feature selection process easier to follow. "
   ]
  },
  {
   "cell_type": "code",
   "execution_count": 137,
   "id": "e29596d3",
   "metadata": {},
   "outputs": [],
   "source": [
    "seg_data2C = seg_data.loc[seg_data['Class'].isin(['WINDOW','CEMENT'])]"
   ]
  },
  {
   "cell_type": "code",
   "execution_count": 138,
   "id": "ed1dccc4",
   "metadata": {},
   "outputs": [
    {
     "data": {
      "text/plain": [
       "((330, 19), (330, 19))"
      ]
     },
     "execution_count": 138,
     "metadata": {},
     "output_type": "execute_result"
    }
   ],
   "source": [
    "y = seg_data2C.pop('Class').values\n",
    "X_raw = seg_data2C.values\n",
    "feature_names = seg_data2C.columns\n",
    "X_tr_raw, X_ts_raw, y_train, y_test = train_test_split(X_raw, y, \n",
    "                                                       random_state=42, test_size=1/2)\n",
    "scaler = MinMaxScaler()\n",
    "X_train = scaler.fit_transform(X_tr_raw)\n",
    "X_test = scaler.transform(X_ts_raw)\n",
    "max_k = X_train.shape[1]\n",
    "X_train.shape, X_test.shape"
   ]
  },
  {
   "cell_type": "code",
   "execution_count": 139,
   "id": "0c3dfc56",
   "metadata": {},
   "outputs": [
    {
     "data": {
      "text/plain": [
       "array(['CEMENT', 'WINDOW'], dtype=object)"
      ]
     },
     "execution_count": 139,
     "metadata": {},
     "output_type": "execute_result"
    }
   ],
   "source": [
    "classes=np.unique(y_train)\n",
    "classes"
   ]
  },
  {
   "cell_type": "markdown",
   "id": "34b182cc",
   "metadata": {},
   "source": [
    "### Logistic Regression"
   ]
  },
  {
   "cell_type": "code",
   "execution_count": 140,
   "id": "198a26f3",
   "metadata": {},
   "outputs": [
    {
     "name": "stdout",
     "output_type": "stream",
     "text": [
      "Test Accuracy: 0.95 Training Accuracy: 0.95\n"
     ]
    }
   ],
   "source": [
    "lr = LogisticRegression(solver='saga', penalty=None, max_iter=5000)\n",
    "lr_tr = lr.fit(X_train, y_train)\n",
    "full_acc = lr_tr.score(X_test, y_test)\n",
    "full_tr_acc = cross_val_score(lr, X_train, y_train, cv=8)\n",
    "print('Test Accuracy: {:.2f}'.format(full_acc), \n",
    "      'Training Accuracy: {:.2f}'.format(full_tr_acc.mean()))"
   ]
  },
  {
   "cell_type": "code",
   "execution_count": 141,
   "id": "0bee5667",
   "metadata": {},
   "outputs": [],
   "source": [
    "betas = np.absolute(lr_tr.coef_[0])\n",
    "f_scores=pd.DataFrame({'No Lasso':betas,'Feature':feature_names})\n",
    "f_scores.set_index('Feature', inplace = True)\n",
    "# f_scores"
   ]
  },
  {
   "cell_type": "markdown",
   "id": "7f34a8ea",
   "metadata": {},
   "source": [
    "### Lasso feature selection\n",
    "Logistic regression with L1 regularisation.   \n",
    "`SelectFromModel` will select the top features out of `max_features`   \n",
    "The `C` parameter in `LogisticRegression` is the regularisation parameter, smaller values means stronger regularisation, default is 1.       \n",
    "You can select a specific number of features from `SelectFromModel` using the `max_features` parameter\n",
    "\n",
    "### Using default regularisation\n"
   ]
  },
  {
   "cell_type": "code",
   "execution_count": 142,
   "id": "973620f2",
   "metadata": {
    "scrolled": true
   },
   "outputs": [
    {
     "name": "stdout",
     "output_type": "stream",
     "text": [
      "Selected features: ['REGION-CENTROID-ROW', 'RAWRED-MEAN', 'EXGREEN-MEAN']\n"
     ]
    }
   ],
   "source": [
    "lasso = SelectFromModel(LogisticRegression(penalty=\"l1\", \n",
    "                     C=1, solver=\"saga\", max_iter=1000), max_features=X_train.shape[1])\n",
    "lasso.fit(X_train, y_train)\n",
    "lasso_def_features = list(seg_data2C.columns[lasso.get_support()])\n",
    "print('Selected features:', lasso_def_features)"
   ]
  },
  {
   "cell_type": "code",
   "execution_count": 143,
   "id": "1c898f07",
   "metadata": {},
   "outputs": [],
   "source": [
    "f_scores['Lasso C=1'] = np.absolute(lasso.estimator_.coef_[0])"
   ]
  },
  {
   "cell_type": "markdown",
   "id": "427b7ce3",
   "metadata": {},
   "source": [
    "Reduce the data to just the selected features"
   ]
  },
  {
   "cell_type": "code",
   "execution_count": 144,
   "id": "44c61118",
   "metadata": {},
   "outputs": [
    {
     "data": {
      "text/plain": [
       "((330, 3), (330, 3))"
      ]
     },
     "execution_count": 144,
     "metadata": {},
     "output_type": "execute_result"
    }
   ],
   "source": [
    "X_tr_def = lasso.transform(X_train)\n",
    "X_tst_def = lasso.transform(X_test)\n",
    "X_tr_def.shape, X_tst_def.shape"
   ]
  },
  {
   "cell_type": "code",
   "execution_count": 145,
   "id": "2791fe02",
   "metadata": {},
   "outputs": [
    {
     "name": "stdout",
     "output_type": "stream",
     "text": [
      "Lasso C=1 selects 3 features\n",
      "Lasso C=1  Test Accuracy: 0.91 Lasso C=1  Train Accuracy (x-val): 0.94\n"
     ]
    }
   ],
   "source": [
    "lr = LogisticRegression(solver='saga', penalty=None, max_iter=3000)\n",
    "lr_def = lr.fit(X_tr_def, y_train)\n",
    "default_acc = lr_def.score(X_tst_def, y_test)\n",
    "def_tr_acc = cross_val_score(lr, X_tr_def, y_train, cv=8)\n",
    "print('Lasso C=1 selects %d features' % (X_tr_def.shape[1]))\n",
    "print('Lasso C=1  Test Accuracy: {:.2f}'.format(default_acc), \n",
    "      'Lasso C=1  Train Accuracy (x-val): {:.2f}'.format(def_tr_acc.mean()))"
   ]
  },
  {
   "cell_type": "markdown",
   "id": "49e94afc",
   "metadata": {},
   "source": [
    "### Using less regularisation"
   ]
  },
  {
   "cell_type": "code",
   "execution_count": 146,
   "id": "b3349d36",
   "metadata": {},
   "outputs": [
    {
     "name": "stdout",
     "output_type": "stream",
     "text": [
      "Selected features: ['REGION-CENTROID-ROW', 'SHORT-LINE-DENSITY-5', 'VEDGE-MEAN', 'HEDGE-MEAN', 'HEDGE-SD', 'RAWRED-MEAN', 'EXRED-MEAN', 'EXGREEN-MEAN', 'SATURATION-MEAN', 'HUE-MEAN']\n"
     ]
    }
   ],
   "source": [
    "lasso_mild = SelectFromModel(LogisticRegression(penalty=\"l1\", \n",
    "                     C=10, solver=\"saga\", max_iter=3000), max_features=X_train.shape[1])\n",
    "lasso_mild.fit(X_train, y_train)\n",
    "lasso_mild_features = list(seg_data2C.columns[lasso_mild.get_support()])\n",
    "print('Selected features:', lasso_mild_features)"
   ]
  },
  {
   "cell_type": "code",
   "execution_count": 147,
   "id": "dbb53278",
   "metadata": {},
   "outputs": [],
   "source": [
    "f_scores['Lasso C=10'] = np.absolute(lasso_mild.estimator_.coef_[0])"
   ]
  },
  {
   "cell_type": "code",
   "execution_count": 148,
   "id": "61c704b2",
   "metadata": {},
   "outputs": [
    {
     "data": {
      "text/plain": [
       "((330, 10), (330, 10))"
      ]
     },
     "execution_count": 148,
     "metadata": {},
     "output_type": "execute_result"
    }
   ],
   "source": [
    "X_tr_mild = lasso_mild.transform(X_train)\n",
    "X_tst_mild = lasso_mild.transform(X_test)\n",
    "X_tr_mild.shape, X_tst_mild.shape"
   ]
  },
  {
   "cell_type": "code",
   "execution_count": 149,
   "id": "8ed1c56f",
   "metadata": {},
   "outputs": [
    {
     "name": "stdout",
     "output_type": "stream",
     "text": [
      "Lasso C=10  selects 10 features\n",
      "Lasso C=10 Test Accuracy: 0.95 Lasso C=10 Train Accuracy (x-val): 0.95\n"
     ]
    }
   ],
   "source": [
    "lr = LogisticRegression(solver='saga', penalty=None, max_iter=4000)\n",
    "lr_mild = lr.fit(X_tr_mild, y_train)\n",
    "mild_acc = lr_mild.score(X_tst_mild, y_test)\n",
    "mild_tr_acc = cross_val_score(lr, X_tr_mild, y_train, cv=8)\n",
    "print('Lasso C=10  selects %d features' % (X_tr_mild.shape[1]))\n",
    "print('Lasso C=10 Test Accuracy: {:.2f}'.format(mild_acc), \n",
    "      'Lasso C=10 Train Accuracy (x-val): {:.2f}'.format(mild_tr_acc.mean()))"
   ]
  },
  {
   "cell_type": "markdown",
   "id": "34ef93c0",
   "metadata": {},
   "source": [
    "### Plotting results"
   ]
  },
  {
   "cell_type": "code",
   "execution_count": 150,
   "id": "7ee08900",
   "metadata": {
    "scrolled": false
   },
   "outputs": [
    {
     "data": {
      "text/html": [
       "<div>\n",
       "<style scoped>\n",
       "    .dataframe tbody tr th:only-of-type {\n",
       "        vertical-align: middle;\n",
       "    }\n",
       "\n",
       "    .dataframe tbody tr th {\n",
       "        vertical-align: top;\n",
       "    }\n",
       "\n",
       "    .dataframe thead th {\n",
       "        text-align: right;\n",
       "    }\n",
       "</style>\n",
       "<table border=\"1\" class=\"dataframe\">\n",
       "  <thead>\n",
       "    <tr style=\"text-align: right;\">\n",
       "      <th></th>\n",
       "      <th>No Lasso</th>\n",
       "      <th>Lasso C=1</th>\n",
       "      <th>Lasso C=10</th>\n",
       "    </tr>\n",
       "    <tr>\n",
       "      <th>Feature</th>\n",
       "      <th></th>\n",
       "      <th></th>\n",
       "      <th></th>\n",
       "    </tr>\n",
       "  </thead>\n",
       "  <tbody>\n",
       "    <tr>\n",
       "      <th>REGION-CENTROID-COL</th>\n",
       "      <td>0.997166</td>\n",
       "      <td>0.000000</td>\n",
       "      <td>0.000000</td>\n",
       "    </tr>\n",
       "    <tr>\n",
       "      <th>REGION-CENTROID-ROW</th>\n",
       "      <td>15.577858</td>\n",
       "      <td>3.298262</td>\n",
       "      <td>8.112169</td>\n",
       "    </tr>\n",
       "    <tr>\n",
       "      <th>REGION-PIXEL-COUNT</th>\n",
       "      <td>0.000000</td>\n",
       "      <td>0.000000</td>\n",
       "      <td>0.000000</td>\n",
       "    </tr>\n",
       "    <tr>\n",
       "      <th>SHORT-LINE-DENSITY-5</th>\n",
       "      <td>3.293362</td>\n",
       "      <td>0.000000</td>\n",
       "      <td>0.885394</td>\n",
       "    </tr>\n",
       "    <tr>\n",
       "      <th>SHORT-LINE-DENSITY-2</th>\n",
       "      <td>6.222818</td>\n",
       "      <td>0.000000</td>\n",
       "      <td>0.000000</td>\n",
       "    </tr>\n",
       "  </tbody>\n",
       "</table>\n",
       "</div>"
      ],
      "text/plain": [
       "                       No Lasso  Lasso C=1  Lasso C=10\n",
       "Feature                                               \n",
       "REGION-CENTROID-COL    0.997166   0.000000    0.000000\n",
       "REGION-CENTROID-ROW   15.577858   3.298262    8.112169\n",
       "REGION-PIXEL-COUNT     0.000000   0.000000    0.000000\n",
       "SHORT-LINE-DENSITY-5   3.293362   0.000000    0.885394\n",
       "SHORT-LINE-DENSITY-2   6.222818   0.000000    0.000000"
      ]
     },
     "execution_count": 150,
     "metadata": {},
     "output_type": "execute_result"
    }
   ],
   "source": [
    "f_scores.head()"
   ]
  },
  {
   "cell_type": "code",
   "execution_count": 151,
   "id": "ee197ab0",
   "metadata": {},
   "outputs": [
    {
     "data": {
      "text/plain": [
       "Text(0, 0.5, 'Betas (Abs. Val.)')"
      ]
     },
     "execution_count": 151,
     "metadata": {},
     "output_type": "execute_result"
    },
    {
     "data": {
      "image/png": "[encoded data removed]",
      "text/plain": [
       "<Figure size 700x400 with 1 Axes>"
      ]
     },
     "metadata": {},
     "output_type": "display_data"
    }
   ],
   "source": [
    "df_plot = f_scores.sort_values('No Lasso', ascending = False)\n",
    "ax = df_plot[['No Lasso','Lasso C=10','Lasso C=1']].plot.bar(figsize=(7,4))\n",
    "ax.grid( axis = 'y')\n",
    "plt.ylabel('Betas (Abs. Val.)')"
   ]
  },
  {
   "cell_type": "code",
   "execution_count": 152,
   "id": "5d05e694",
   "metadata": {},
   "outputs": [
    {
     "data": {
      "image/png": "[encoded data removed]",
      "text/plain": [
       "<Figure size 640x480 with 2 Axes>"
      ]
     },
     "metadata": {},
     "output_type": "display_data"
    }
   ],
   "source": [
    "fig, ax = plt.subplots()\n",
    "width = 0.2\n",
    "\n",
    "options = ['No Lasso', 'Lasso C=1', 'Lasso C+10']\n",
    "n_feat = [X_train.shape[1], len(lasso_def_features), len(lasso_mild_features)]\n",
    "accs = [full_acc,default_acc,mild_acc]\n",
    "xv = [full_tr_acc.mean(), def_tr_acc.mean(), mild_tr_acc.mean()]\n",
    "\n",
    "y_pos = np.arange(len(options))\n",
    "\n",
    "p1 = ax.bar(y_pos-width/2, xv, width, align='center', label = 'Train (X-val)',\n",
    "            color=['blue','blue','blue'],alpha=0.5)\n",
    "p2 = ax.bar(y_pos+width/2, accs , width, align='center', label = 'Test (Hold-out)',\n",
    "            color=['g','g','g'],alpha=0.5)\n",
    "\n",
    "ax.set_ylim([0.7, 1])\n",
    "ax2 = ax.twinx()\n",
    "\n",
    "p3 = ax2.plot([0,1,2],n_feat, color = 'red', label = 'Feature Count',\n",
    "              marker = 'x', ms = 10, linewidth=0)\n",
    "ax2.set_ylim([0, 20])\n",
    "\n",
    "ax.grid(axis = 'y')\n",
    "\n",
    "h1, l1 = ax.get_legend_handles_labels()\n",
    "h2, l2 = ax2.get_legend_handles_labels()\n",
    "ax2.legend(h1+h2, l1+l2, loc='lower right')\n",
    "\n",
    "ax2.yaxis.set_major_locator(MaxNLocator(integer=True))\n",
    "\n",
    "plt.xticks(y_pos, options)\n",
    "ax.set_ylabel('Accuracy')\n",
    "ax2.set_ylabel('Feature Count')\n",
    "\n",
    "plt.show()"
   ]
  },
  {
   "cell_type": "markdown",
   "id": "78c223ba",
   "metadata": {},
   "source": [
    "## Penguins dataset\n",
    "Lasso feature selection on the Penguins dataset"
   ]
  },
  {
   "cell_type": "code",
   "execution_count": 153,
   "id": "e33a5e13",
   "metadata": {
    "scrolled": true
   },
   "outputs": [
    {
     "name": "stdout",
     "output_type": "stream",
     "text": [
      "(333, 5)\n"
     ]
    },
    {
     "data": {
      "text/html": [
       "<div>\n",
       "<style scoped>\n",
       "    .dataframe tbody tr th:only-of-type {\n",
       "        vertical-align: middle;\n",
       "    }\n",
       "\n",
       "    .dataframe tbody tr th {\n",
       "        vertical-align: top;\n",
       "    }\n",
       "\n",
       "    .dataframe thead th {\n",
       "        text-align: right;\n",
       "    }\n",
       "</style>\n",
       "<table border=\"1\" class=\"dataframe\">\n",
       "  <thead>\n",
       "    <tr style=\"text-align: right;\">\n",
       "      <th></th>\n",
       "      <th>bill_length</th>\n",
       "      <th>bill_depth</th>\n",
       "      <th>flipper_length</th>\n",
       "      <th>body_mass</th>\n",
       "      <th>species</th>\n",
       "    </tr>\n",
       "  </thead>\n",
       "  <tbody>\n",
       "    <tr>\n",
       "      <th>0</th>\n",
       "      <td>39.1</td>\n",
       "      <td>18.7</td>\n",
       "      <td>181.0</td>\n",
       "      <td>3750.0</td>\n",
       "      <td>Adelie</td>\n",
       "    </tr>\n",
       "    <tr>\n",
       "      <th>1</th>\n",
       "      <td>39.5</td>\n",
       "      <td>17.4</td>\n",
       "      <td>186.0</td>\n",
       "      <td>3800.0</td>\n",
       "      <td>Adelie</td>\n",
       "    </tr>\n",
       "    <tr>\n",
       "      <th>2</th>\n",
       "      <td>40.3</td>\n",
       "      <td>18.0</td>\n",
       "      <td>195.0</td>\n",
       "      <td>3250.0</td>\n",
       "      <td>Adelie</td>\n",
       "    </tr>\n",
       "    <tr>\n",
       "      <th>3</th>\n",
       "      <td>36.7</td>\n",
       "      <td>19.3</td>\n",
       "      <td>193.0</td>\n",
       "      <td>3450.0</td>\n",
       "      <td>Adelie</td>\n",
       "    </tr>\n",
       "    <tr>\n",
       "      <th>4</th>\n",
       "      <td>39.3</td>\n",
       "      <td>20.6</td>\n",
       "      <td>190.0</td>\n",
       "      <td>3650.0</td>\n",
       "      <td>Adelie</td>\n",
       "    </tr>\n",
       "  </tbody>\n",
       "</table>\n",
       "</div>"
      ],
      "text/plain": [
       "   bill_length  bill_depth  flipper_length  body_mass species\n",
       "0         39.1        18.7           181.0     3750.0  Adelie\n",
       "1         39.5        17.4           186.0     3800.0  Adelie\n",
       "2         40.3        18.0           195.0     3250.0  Adelie\n",
       "3         36.7        19.3           193.0     3450.0  Adelie\n",
       "4         39.3        20.6           190.0     3650.0  Adelie"
      ]
     },
     "execution_count": 153,
     "metadata": {},
     "output_type": "execute_result"
    }
   ],
   "source": [
    "penguins = pd.read_csv('penguins.csv', index_col = 0)\n",
    "print(penguins.shape)\n",
    "penguins.head()"
   ]
  },
  {
   "cell_type": "code",
   "execution_count": 154,
   "id": "377c7daa",
   "metadata": {},
   "outputs": [
    {
     "data": {
      "text/plain": [
       "array(['Adelie', 'Chinstrap', 'Gentoo'], dtype=object)"
      ]
     },
     "execution_count": 154,
     "metadata": {},
     "output_type": "execute_result"
    }
   ],
   "source": [
    "classes=np.unique(penguins['species'])\n",
    "classes"
   ]
  },
  {
   "cell_type": "markdown",
   "id": "ce337c3c",
   "metadata": {},
   "source": [
    "Reduce to a 2-class dataset to make Lasso feature selection more transparent. "
   ]
  },
  {
   "cell_type": "code",
   "execution_count": 155,
   "id": "d2f15ac0",
   "metadata": {},
   "outputs": [],
   "source": [
    "penguins2C = penguins.loc[penguins['species'].isin(['Adelie','Chinstrap'])]"
   ]
  },
  {
   "cell_type": "code",
   "execution_count": 156,
   "id": "04addeac",
   "metadata": {},
   "outputs": [
    {
     "data": {
      "text/plain": [
       "((107, 4), (107, 4))"
      ]
     },
     "execution_count": 156,
     "metadata": {},
     "output_type": "execute_result"
    }
   ],
   "source": [
    "y = penguins2C.pop('species').values\n",
    "X_raw = penguins2C.values\n",
    "feature_names = penguins2C.columns\n",
    "X_tr_raw, X_ts_raw, y_train, y_test = train_test_split(X_raw, y, random_state=2, test_size=1/2)\n",
    "scaler = MinMaxScaler()\n",
    "X_train = scaler.fit_transform(X_tr_raw)\n",
    "X_test = scaler.transform(X_ts_raw)\n",
    "max_k = X_train.shape[1]\n",
    "X_train.shape, X_test.shape"
   ]
  },
  {
   "cell_type": "markdown",
   "id": "28c5829f",
   "metadata": {},
   "source": [
    "### Logistic Regression"
   ]
  },
  {
   "cell_type": "code",
   "execution_count": 157,
   "id": "5b76e95d",
   "metadata": {},
   "outputs": [
    {
     "name": "stdout",
     "output_type": "stream",
     "text": [
      "Test Accuracy: 0.98 Training Accuracy: 0.99\n"
     ]
    }
   ],
   "source": [
    "lr = LogisticRegression(solver='saga', penalty=None, max_iter=5000)\n",
    "lr_tr = lr.fit(X_train, y_train)\n",
    "full_acc = lr_tr.score(X_test, y_test)\n",
    "full_tr_acc = cross_val_score(lr, X_train, y_train, cv=8)\n",
    "print('Test Accuracy: {:.2f}'.format(full_acc), \n",
    "      'Training Accuracy: {:.2f}'.format(full_tr_acc.mean()))"
   ]
  },
  {
   "cell_type": "code",
   "execution_count": 158,
   "id": "b05b3bfe",
   "metadata": {},
   "outputs": [
    {
     "data": {
      "text/html": [
       "<div>\n",
       "<style scoped>\n",
       "    .dataframe tbody tr th:only-of-type {\n",
       "        vertical-align: middle;\n",
       "    }\n",
       "\n",
       "    .dataframe tbody tr th {\n",
       "        vertical-align: top;\n",
       "    }\n",
       "\n",
       "    .dataframe thead th {\n",
       "        text-align: right;\n",
       "    }\n",
       "</style>\n",
       "<table border=\"1\" class=\"dataframe\">\n",
       "  <thead>\n",
       "    <tr style=\"text-align: right;\">\n",
       "      <th></th>\n",
       "      <th>No Lasso</th>\n",
       "    </tr>\n",
       "    <tr>\n",
       "      <th>Feature</th>\n",
       "      <th></th>\n",
       "    </tr>\n",
       "  </thead>\n",
       "  <tbody>\n",
       "    <tr>\n",
       "      <th>bill_length</th>\n",
       "      <td>78.411328</td>\n",
       "    </tr>\n",
       "    <tr>\n",
       "      <th>bill_depth</th>\n",
       "      <td>18.750859</td>\n",
       "    </tr>\n",
       "    <tr>\n",
       "      <th>flipper_length</th>\n",
       "      <td>2.908595</td>\n",
       "    </tr>\n",
       "    <tr>\n",
       "      <th>body_mass</th>\n",
       "      <td>25.983315</td>\n",
       "    </tr>\n",
       "  </tbody>\n",
       "</table>\n",
       "</div>"
      ],
      "text/plain": [
       "                 No Lasso\n",
       "Feature                  \n",
       "bill_length     78.411328\n",
       "bill_depth      18.750859\n",
       "flipper_length   2.908595\n",
       "body_mass       25.983315"
      ]
     },
     "execution_count": 158,
     "metadata": {},
     "output_type": "execute_result"
    }
   ],
   "source": [
    "betas = np.absolute(lr_tr.coef_[0])\n",
    "f_scores=pd.DataFrame({'No Lasso':betas,'Feature':feature_names})\n",
    "f_scores.set_index('Feature', inplace = True)\n",
    "f_scores"
   ]
  },
  {
   "cell_type": "markdown",
   "id": "8afcb1a0",
   "metadata": {},
   "source": [
    "### Lasso feature selection\n",
    "Logistic regression with L1 regularisation.   \n",
    "`SelectFromModel` will select the top features out of `max_features`   \n",
    "The `C` parameter in `LogisticRegression` is the regularisation parameter, smaller values means stronger regularisation, default is 1.       \n",
    "You can select a specific number of features from `SelectFromModel` using the `max_features` parameter\n",
    "\n",
    "### Using default regularisation\n"
   ]
  },
  {
   "cell_type": "code",
   "execution_count": 159,
   "id": "3fb0b826",
   "metadata": {
    "scrolled": true
   },
   "outputs": [
    {
     "name": "stdout",
     "output_type": "stream",
     "text": [
      "Selected features: ['bill_length', 'body_mass']\n"
     ]
    }
   ],
   "source": [
    "lasso = SelectFromModel(LogisticRegression(penalty=\"l1\", \n",
    "                     C=1, solver=\"saga\", max_iter=1000), max_features=X_train.shape[1])\n",
    "lasso.fit(X_train, y_train)\n",
    "lasso_def_features = list(penguins2C.columns[lasso.get_support()])\n",
    "print('Selected features:', lasso_def_features)"
   ]
  },
  {
   "cell_type": "code",
   "execution_count": 160,
   "id": "3421f5df",
   "metadata": {},
   "outputs": [],
   "source": [
    "f_scores['Lasso C=1'] = np.absolute(lasso.estimator_.coef_[0])"
   ]
  },
  {
   "cell_type": "markdown",
   "id": "69c511d0",
   "metadata": {},
   "source": [
    "Reduce the data to just the selected features"
   ]
  },
  {
   "cell_type": "code",
   "execution_count": 161,
   "id": "34702b4e",
   "metadata": {},
   "outputs": [
    {
     "data": {
      "text/plain": [
       "((107, 2), (107, 2))"
      ]
     },
     "execution_count": 161,
     "metadata": {},
     "output_type": "execute_result"
    }
   ],
   "source": [
    "X_tr_def = lasso.transform(X_train)\n",
    "X_tst_def = lasso.transform(X_test)\n",
    "X_tr_def.shape, X_tst_def.shape"
   ]
  },
  {
   "cell_type": "code",
   "execution_count": 162,
   "id": "54e3cf36",
   "metadata": {},
   "outputs": [
    {
     "name": "stdout",
     "output_type": "stream",
     "text": [
      "Lasso C=1 selects 2 features\n",
      "Lasso C=1 Test Accuracy: 0.96 Lasso C=1 Train Accuracy (x-val): 0.99\n"
     ]
    }
   ],
   "source": [
    "lr = LogisticRegression(solver='saga', penalty=None, max_iter=4000)\n",
    "lr_def = lr.fit(X_tr_def, y_train)\n",
    "default_acc = lr_def.score(X_tst_def, y_test)\n",
    "def_tr_acc = cross_val_score(lr, X_tr_def, y_train, cv=8)\n",
    "print('Lasso C=1 selects %d features' % (X_tr_def.shape[1]))\n",
    "print('Lasso C=1 Test Accuracy: {:.2f}'.format(default_acc), \n",
    "      'Lasso C=1 Train Accuracy (x-val): {:.2f}'.format(def_tr_acc.mean()))"
   ]
  },
  {
   "cell_type": "markdown",
   "id": "31493fdc",
   "metadata": {},
   "source": [
    "### Using less regularisation"
   ]
  },
  {
   "cell_type": "code",
   "execution_count": 163,
   "id": "1909f155",
   "metadata": {},
   "outputs": [
    {
     "name": "stdout",
     "output_type": "stream",
     "text": [
      "Selected features: ['bill_length', 'bill_depth', 'body_mass']\n"
     ]
    }
   ],
   "source": [
    "lasso_mild = SelectFromModel(LogisticRegression(penalty=\"l1\", \n",
    "                     C=10, solver=\"saga\", max_iter=3000), max_features=X_train.shape[1])\n",
    "lasso_mild.fit(X_train, y_train)\n",
    "lasso_mild_features = list(penguins2C.columns[lasso_mild.get_support()])\n",
    "print('Selected features:', lasso_mild_features)"
   ]
  },
  {
   "cell_type": "code",
   "execution_count": 164,
   "id": "e9ea9450",
   "metadata": {},
   "outputs": [],
   "source": [
    "f_scores['Lasso C=10'] = np.absolute(lasso_mild.estimator_.coef_[0])"
   ]
  },
  {
   "cell_type": "code",
   "execution_count": 165,
   "id": "b7ddcb24",
   "metadata": {},
   "outputs": [
    {
     "data": {
      "text/plain": [
       "((107, 3), (107, 3))"
      ]
     },
     "execution_count": 165,
     "metadata": {},
     "output_type": "execute_result"
    }
   ],
   "source": [
    "X_tr_mild = lasso_mild.transform(X_train)\n",
    "X_tst_mild = lasso_mild.transform(X_test)\n",
    "X_tr_mild.shape, X_tst_mild.shape"
   ]
  },
  {
   "cell_type": "code",
   "execution_count": 166,
   "id": "530f7b3d",
   "metadata": {},
   "outputs": [
    {
     "name": "stdout",
     "output_type": "stream",
     "text": [
      "Lasso C=10 selects 3 features\n",
      "Lasso C=10 Test Accuracy: 0.98 Lasso C=10 Train Accuracy (x-val): 1.00\n"
     ]
    }
   ],
   "source": [
    "lr = LogisticRegression(solver='saga', penalty=None, max_iter=4000)\n",
    "lr_mild = lr.fit(X_tr_mild, y_train)\n",
    "mild_acc = lr_mild.score(X_tst_mild, y_test)\n",
    "mild_tr_acc = cross_val_score(lr, X_tr_mild, y_train, cv=8)\n",
    "print('Lasso C=10 selects %d features' % (X_tr_mild.shape[1]))\n",
    "print('Lasso C=10 Test Accuracy: {:.2f}'.format(mild_acc), \n",
    "      'Lasso C=10 Train Accuracy (x-val): {:.2f}'.format(mild_tr_acc.mean()))"
   ]
  },
  {
   "cell_type": "markdown",
   "id": "3091d5d1",
   "metadata": {},
   "source": [
    "### Plotting results"
   ]
  },
  {
   "cell_type": "code",
   "execution_count": 167,
   "id": "94389858",
   "metadata": {
    "scrolled": false
   },
   "outputs": [
    {
     "data": {
      "text/html": [
       "<div>\n",
       "<style scoped>\n",
       "    .dataframe tbody tr th:only-of-type {\n",
       "        vertical-align: middle;\n",
       "    }\n",
       "\n",
       "    .dataframe tbody tr th {\n",
       "        vertical-align: top;\n",
       "    }\n",
       "\n",
       "    .dataframe thead th {\n",
       "        text-align: right;\n",
       "    }\n",
       "</style>\n",
       "<table border=\"1\" class=\"dataframe\">\n",
       "  <thead>\n",
       "    <tr style=\"text-align: right;\">\n",
       "      <th></th>\n",
       "      <th>No Lasso</th>\n",
       "      <th>Lasso C=1</th>\n",
       "      <th>Lasso C=10</th>\n",
       "    </tr>\n",
       "    <tr>\n",
       "      <th>Feature</th>\n",
       "      <th></th>\n",
       "      <th></th>\n",
       "      <th></th>\n",
       "    </tr>\n",
       "  </thead>\n",
       "  <tbody>\n",
       "    <tr>\n",
       "      <th>bill_length</th>\n",
       "      <td>78.411328</td>\n",
       "      <td>12.839786</td>\n",
       "      <td>32.347955</td>\n",
       "    </tr>\n",
       "    <tr>\n",
       "      <th>bill_depth</th>\n",
       "      <td>18.750859</td>\n",
       "      <td>0.000000</td>\n",
       "      <td>3.938356</td>\n",
       "    </tr>\n",
       "    <tr>\n",
       "      <th>flipper_length</th>\n",
       "      <td>2.908595</td>\n",
       "      <td>0.000000</td>\n",
       "      <td>0.000000</td>\n",
       "    </tr>\n",
       "    <tr>\n",
       "      <th>body_mass</th>\n",
       "      <td>25.983315</td>\n",
       "      <td>2.291976</td>\n",
       "      <td>9.365770</td>\n",
       "    </tr>\n",
       "  </tbody>\n",
       "</table>\n",
       "</div>"
      ],
      "text/plain": [
       "                 No Lasso  Lasso C=1  Lasso C=10\n",
       "Feature                                         \n",
       "bill_length     78.411328  12.839786   32.347955\n",
       "bill_depth      18.750859   0.000000    3.938356\n",
       "flipper_length   2.908595   0.000000    0.000000\n",
       "body_mass       25.983315   2.291976    9.365770"
      ]
     },
     "execution_count": 167,
     "metadata": {},
     "output_type": "execute_result"
    }
   ],
   "source": [
    "f_scores.head()"
   ]
  },
  {
   "cell_type": "code",
   "execution_count": 168,
   "id": "02e8e51e",
   "metadata": {},
   "outputs": [
    {
     "data": {
      "text/plain": [
       "Text(0, 0.5, 'Betas (Abs. Val.)')"
      ]
     },
     "execution_count": 168,
     "metadata": {},
     "output_type": "execute_result"
    },
    {
     "data": {
      "image/png": "[encoded data removed]",
      "text/plain": [
       "<Figure size 300x400 with 1 Axes>"
      ]
     },
     "metadata": {},
     "output_type": "display_data"
    }
   ],
   "source": [
    "df_plot = f_scores.sort_values('No Lasso', ascending = False)\n",
    "ax = df_plot[['No Lasso','Lasso C=10','Lasso C=1']].plot.bar(figsize=(3,4))\n",
    "ax.grid( axis = 'y')\n",
    "plt.ylabel('Betas (Abs. Val.)')"
   ]
  },
  {
   "cell_type": "code",
   "execution_count": 169,
   "id": "f78973ad",
   "metadata": {},
   "outputs": [
    {
     "data": {
      "image/png": "[encoded data removed]",
      "text/plain": [
       "<Figure size 640x480 with 2 Axes>"
      ]
     },
     "metadata": {},
     "output_type": "display_data"
    }
   ],
   "source": [
    "fig, ax = plt.subplots()\n",
    "width = 0.2\n",
    "\n",
    "options = ['No Lasso', 'Lasso C=1', 'Lasso C=10']\n",
    "n_feat = [X_train.shape[1], len(lasso_def_features), len(lasso_mild_features)]\n",
    "accs = [full_acc,default_acc,mild_acc]\n",
    "xv = [full_tr_acc.mean(), def_tr_acc.mean(), mild_tr_acc.mean()]\n",
    "\n",
    "y_pos = np.arange(len(options))\n",
    "\n",
    "p1 = ax.bar(y_pos-width/2, xv, width, align='center', label = 'Train (X-val)',\n",
    "            color=['blue','blue','blue'],alpha=0.5)\n",
    "p2 = ax.bar(y_pos+width/2, accs , width, align='center', label = 'Test (Hold-out)',\n",
    "            color=['g','g','g'],alpha=0.5)\n",
    "\n",
    "ax.set_ylim([0.7, 1])\n",
    "ax2 = ax.twinx()\n",
    "\n",
    "p3 = ax2.plot([0,1,2],n_feat, color = 'red', label = 'Feature Count',\n",
    "              marker = 'x', ms = 10, linewidth=0)\n",
    "ax2.set_ylim([0, 5])\n",
    "\n",
    "ax.grid(axis = 'y')\n",
    "\n",
    "h1, l1 = ax.get_legend_handles_labels()\n",
    "h2, l2 = ax2.get_legend_handles_labels()\n",
    "ax2.legend(h1+h2, l1+l2, loc='lower right')\n",
    "\n",
    "ax2.yaxis.set_major_locator(MaxNLocator(integer=True))\n",
    "\n",
    "plt.xticks(y_pos, options)\n",
    "ax.set_ylabel('Accuracy')\n",
    "ax2.set_ylabel('Feature Count')\n",
    "\n",
    "plt.show()"
   ]
  }
 ],
 "metadata": {
  "kernelspec": {
   "display_name": "Python 3",
   "language": "python",
   "name": "python3"
  },
  "language_info": {
   "codemirror_mode": {
    "name": "ipython",
    "version": 3
   },
   "file_extension": ".py",
   "mimetype": "text/x-python",
   "name": "python",
   "nbconvert_exporter": "python",
   "pygments_lexer": "ipython3",
   "version": "3.8.8"
  }
 },
 "nbformat": 4,
 "nbformat_minor": 5
}
